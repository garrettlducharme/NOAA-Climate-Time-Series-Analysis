{
 "cells": [
  {
   "cell_type": "markdown",
   "metadata": {},
   "source": [
    "### Purpose of This Notebook\n",
    "\n",
    "This notebook will be used to fetch the climate at a glance data from the NOAA website. The data will be saved as csvs for easier access later."
   ]
  },
  {
   "cell_type": "code",
   "execution_count": 1,
   "metadata": {},
   "outputs": [],
   "source": [
    "import pandas as pd\n",
    "import pandas.tseries\n",
    "import numpy as np\n",
    "import seaborn as sns\n",
    "import requests\n",
    "import json"
   ]
  },
  {
   "cell_type": "code",
   "execution_count": 2,
   "metadata": {},
   "outputs": [],
   "source": [
    "def noaa_resp_to_ts(URL):\n",
    "    \"\"\"\n",
    "    Accepts a link for JSON output from the publicly available NOAA climate at a glance data.\n",
    "    Returns a timeseries  of this data.\n",
    "    \"\"\"\n",
    "    response = requests.get(URL)\n",
    "    \n",
    "    try:\n",
    "        response.raise_for_status()\n",
    "    except requests.exceptions.HTTPError as e:\n",
    "        # Whoops it wasn't a 200\n",
    "        return \"Error: \" + str(e)\n",
    "    \n",
    "    data = response.json()\n",
    "    dates = list(data['data'].keys())\n",
    "    dates = [date[:4] + '-' + date[4:] for date in dates]\n",
    "    dates = pd.to_datetime(dates, format='%Y-%m')\n",
    "    series = [v['value'] for v in data['data'].values()]\n",
    "    ts = pd.Series(series, index=dates)\n",
    "    ts = ts.astype(float)\n",
    "    \n",
    "    return ts"
   ]
  },
  {
   "cell_type": "code",
   "execution_count": 3,
   "metadata": {},
   "outputs": [],
   "source": [
    "#Lists of metrics and urls for querying\n",
    "metrics = ['tavg', 'tmax', 'tmin', 'pcp', 'cdd', 'hdd', 'pdsi', 'phdi', 'pmdi']\n",
    "url_dict = {metric: [f'https://www.ncdc.noaa.gov/cag/statewide/time-series/{i}' + \n",
    "                     f'-{metric}-all-1-1940-2019.json?base_prd=true&begbaseyear=1940&endbaseyear=1940'\n",
    "                     for i in range(1,49)] for metric in metrics}"
   ]
  },
  {
   "cell_type": "code",
   "execution_count": null,
   "metadata": {},
   "outputs": [],
   "source": [
    "#Get all of the timeseries for each metric and each state\n",
    "all_tseries = {metric: [noaa_resp_to_ts(url) for url in url_dict[metric]]\n",
    "               for metric in metrics}"
   ]
  },
  {
   "cell_type": "code",
   "execution_count": null,
   "metadata": {},
   "outputs": [],
   "source": [
    "#Combine timeseries into dataframes by metric\n",
    "all_dfs = {metric: pd.DataFrame(all_tseries[metric]).T for metric in metrics}"
   ]
  },
  {
   "cell_type": "code",
   "execution_count": null,
   "metadata": {},
   "outputs": [],
   "source": [
    "#Set column names for states and rename Date index\n",
    "states = [\"AL\", \"AZ\", \"AR\", \"CA\", \"CO\", \"CT\", \"DE\", \"FL\", \"GA\", \n",
    "          \"ID\", \"IL\", \"IN\", \"IA\", \"KS\", \"KY\", \"LA\", \"ME\", \"MD\", \n",
    "          \"MA\", \"MI\", \"MN\", \"MS\", \"MO\", \"MT\", \"NE\", \"NV\", \"NH\",\n",
    "          \"NJ\", \"NM\", \"NY\", \"NC\", \"ND\", \"OH\", \"OK\", \"OR\", \"PA\",\n",
    "          \"RI\", \"SC\", \"SD\", \"TN\", \"TX\", \"UT\", \"VT\", \"VA\", \"WA\",\n",
    "          \"WV\", \"WI\", \"WY\"]\n",
    "\n",
    "for metric in metrics:\n",
    "    all_dfs[metric].columns = states\n",
    "    all_dfs[metric].index.rename('Date', inplace=True)\n",
    "    all_dfs[metric].to_csv('cag_csvs/' + metric + '.csv')"
   ]
  }
 ],
 "metadata": {
  "kernelspec": {
   "display_name": "Python 3",
   "language": "python",
   "name": "python3"
  },
  "language_info": {
   "codemirror_mode": {
    "name": "ipython",
    "version": 3
   },
   "file_extension": ".py",
   "mimetype": "text/x-python",
   "name": "python",
   "nbconvert_exporter": "python",
   "pygments_lexer": "ipython3",
   "version": "3.7.3"
  }
 },
 "nbformat": 4,
 "nbformat_minor": 4
}
