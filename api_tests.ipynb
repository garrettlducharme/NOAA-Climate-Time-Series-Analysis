{
 "cells": [
  {
   "cell_type": "code",
   "execution_count": 92,
   "metadata": {},
   "outputs": [],
   "source": [
    "import pandas as pd\n",
    "import pandas.tseries\n",
    "import numpy as np\n",
    "import seaborn as sns\n",
    "import matplotlib.pyplot as plt\n",
    "import requests\n",
    "import json"
   ]
  },
  {
   "cell_type": "code",
   "execution_count": 103,
   "metadata": {},
   "outputs": [
    {
     "data": {
      "text/plain": [
       "'QzgsRerYQwQrqNseAWIVqvhFQJljRsay'"
      ]
     },
     "execution_count": 103,
     "metadata": {},
     "output_type": "execute_result"
    }
   ],
   "source": [
    "with open('C:/Users/ducha/.api_keys/noaa_api.txt') as f:\n",
    "    token = json.load(f)[\"api_key\"]"
   ]
  },
  {
   "cell_type": "code",
   "execution_count": 104,
   "metadata": {},
   "outputs": [],
   "source": [
    "r = requests.get('https://www.ncdc.noaa.gov/cdo-web/api/v2/datasets', headers={'token': token})"
   ]
  },
  {
   "cell_type": "code",
   "execution_count": 106,
   "metadata": {},
   "outputs": [],
   "source": [
    "d = json.loads(r.text)"
   ]
  },
  {
   "cell_type": "code",
   "execution_count": 111,
   "metadata": {},
   "outputs": [
    {
     "data": {
      "text/plain": [
       "[{'uid': 'gov.noaa.ncdc:C00861',\n",
       "  'mindate': '1763-01-01',\n",
       "  'maxdate': '2019-12-31',\n",
       "  'name': 'Daily Summaries',\n",
       "  'datacoverage': 1,\n",
       "  'id': 'GHCND'},\n",
       " {'uid': 'gov.noaa.ncdc:C00946',\n",
       "  'mindate': '1763-01-01',\n",
       "  'maxdate': '2019-11-01',\n",
       "  'name': 'Global Summary of the Month',\n",
       "  'datacoverage': 1,\n",
       "  'id': 'GSOM'},\n",
       " {'uid': 'gov.noaa.ncdc:C00947',\n",
       "  'mindate': '1763-01-01',\n",
       "  'maxdate': '2019-01-01',\n",
       "  'name': 'Global Summary of the Year',\n",
       "  'datacoverage': 1,\n",
       "  'id': 'GSOY'},\n",
       " {'uid': 'gov.noaa.ncdc:C00345',\n",
       "  'mindate': '1991-06-05',\n",
       "  'maxdate': '2020-01-02',\n",
       "  'name': 'Weather Radar (Level II)',\n",
       "  'datacoverage': 0.95,\n",
       "  'id': 'NEXRAD2'},\n",
       " {'uid': 'gov.noaa.ncdc:C00708',\n",
       "  'mindate': '1994-05-20',\n",
       "  'maxdate': '2019-12-31',\n",
       "  'name': 'Weather Radar (Level III)',\n",
       "  'datacoverage': 0.95,\n",
       "  'id': 'NEXRAD3'},\n",
       " {'uid': 'gov.noaa.ncdc:C00821',\n",
       "  'mindate': '2010-01-01',\n",
       "  'maxdate': '2010-01-01',\n",
       "  'name': 'Normals Annual/Seasonal',\n",
       "  'datacoverage': 1,\n",
       "  'id': 'NORMAL_ANN'},\n",
       " {'uid': 'gov.noaa.ncdc:C00823',\n",
       "  'mindate': '2010-01-01',\n",
       "  'maxdate': '2010-12-31',\n",
       "  'name': 'Normals Daily',\n",
       "  'datacoverage': 1,\n",
       "  'id': 'NORMAL_DLY'},\n",
       " {'uid': 'gov.noaa.ncdc:C00824',\n",
       "  'mindate': '2010-01-01',\n",
       "  'maxdate': '2010-12-31',\n",
       "  'name': 'Normals Hourly',\n",
       "  'datacoverage': 1,\n",
       "  'id': 'NORMAL_HLY'},\n",
       " {'uid': 'gov.noaa.ncdc:C00822',\n",
       "  'mindate': '2010-01-01',\n",
       "  'maxdate': '2010-12-01',\n",
       "  'name': 'Normals Monthly',\n",
       "  'datacoverage': 1,\n",
       "  'id': 'NORMAL_MLY'},\n",
       " {'uid': 'gov.noaa.ncdc:C00505',\n",
       "  'mindate': '1970-05-12',\n",
       "  'maxdate': '2014-01-01',\n",
       "  'name': 'Precipitation 15 Minute',\n",
       "  'datacoverage': 0.25,\n",
       "  'id': 'PRECIP_15'},\n",
       " {'uid': 'gov.noaa.ncdc:C00313',\n",
       "  'mindate': '1900-01-01',\n",
       "  'maxdate': '2014-01-01',\n",
       "  'name': 'Precipitation Hourly',\n",
       "  'datacoverage': 1,\n",
       "  'id': 'PRECIP_HLY'}]"
      ]
     },
     "execution_count": 111,
     "metadata": {},
     "output_type": "execute_result"
    }
   ],
   "source": [
    "d['results']"
   ]
  },
  {
   "cell_type": "code",
   "execution_count": null,
   "metadata": {},
   "outputs": [],
   "source": []
  }
 ],
 "metadata": {
  "kernelspec": {
   "display_name": "Python 3",
   "language": "python",
   "name": "python3"
  },
  "language_info": {
   "codemirror_mode": {
    "name": "ipython",
    "version": 3
   },
   "file_extension": ".py",
   "mimetype": "text/x-python",
   "name": "python",
   "nbconvert_exporter": "python",
   "pygments_lexer": "ipython3",
   "version": "3.7.3"
  }
 },
 "nbformat": 4,
 "nbformat_minor": 4
}
