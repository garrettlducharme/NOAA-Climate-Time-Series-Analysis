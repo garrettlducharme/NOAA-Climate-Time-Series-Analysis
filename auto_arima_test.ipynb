{
 "cells": [
  {
   "cell_type": "code",
   "execution_count": 1,
   "metadata": {},
   "outputs": [],
   "source": [
    "import pandas as pd\n",
    "import pandas.tseries\n",
    "import numpy as np\n",
    "import seaborn as sns\n",
    "import matplotlib.pyplot as plt\n",
    "import requests\n",
    "import json\n",
    "import statsmodels.api as sm\n",
    "sns.set_context('talk')\n",
    "%matplotlib inline\n",
    "\n",
    "import warnings\n",
    "warnings.filterwarnings(\"ignore\")"
   ]
  },
  {
   "cell_type": "code",
   "execution_count": 8,
   "metadata": {},
   "outputs": [],
   "source": [
    "avg_t = pd.read_csv(\"cag_csvs/tavg.csv\", index_col='Date', parse_dates=['Date'])\n",
    "cdd = pd.read_csv(\"cag_csvs/cdd.csv\", index_col='Date', parse_dates=['Date'])\n",
    "pcp = pd.read_csv(\"cag_csvs/pcp.csv\", index_col='Date', parse_dates=['Date'])\n",
    "\n",
    "CA_avg_t = avg_t['CA']\n",
    "CA_cdd = cdd['CA']\n",
    "CA_pcp = pcp['CA']\n",
    "\n",
    "rolmean_CA_avg_t = CA_avg_t.rolling(60).mean().dropna()\n",
    "rolmean_CA_cdd = CA_cdd.rolling(60).mean().dropna()\n",
    "rolmean_CA_pcp = CA_pcp.rolling(60).mean().dropna()\n"
   ]
  },
  {
   "cell_type": "code",
   "execution_count": 18,
   "metadata": {},
   "outputs": [
    {
     "name": "stdout",
     "output_type": "stream",
     "text": [
      "Fit ARIMA: order=(0, 1, 0) seasonal_order=(0, 1, 0, 12); AIC=-230.803, BIC=-225.738, Fit time=0.094 seconds\n",
      "Fit ARIMA: order=(1, 1, 0) seasonal_order=(1, 1, 0, 12); AIC=-243.446, BIC=-233.315, Fit time=1.070 seconds\n",
      "Fit ARIMA: order=(0, 1, 1) seasonal_order=(0, 1, 1, 12); AIC=-249.807, BIC=-239.676, Fit time=0.461 seconds\n",
      "Fit ARIMA: order=(0, 1, 1) seasonal_order=(0, 1, 0, 12); AIC=-231.988, BIC=-224.391, Fit time=0.104 seconds\n",
      "Fit ARIMA: order=(0, 1, 1) seasonal_order=(1, 1, 1, 12); AIC=-240.718, BIC=-228.055, Fit time=0.469 seconds\n",
      "Fit ARIMA: order=(0, 1, 1) seasonal_order=(0, 1, 2, 12); AIC=-227.988, BIC=-215.325, Fit time=1.192 seconds\n",
      "Fit ARIMA: order=(0, 1, 1) seasonal_order=(1, 1, 0, 12); AIC=-244.115, BIC=-233.985, Fit time=0.386 seconds\n",
      "Fit ARIMA: order=(0, 1, 1) seasonal_order=(1, 1, 2, 12); AIC=-239.192, BIC=-223.997, Fit time=2.574 seconds\n",
      "Fit ARIMA: order=(0, 1, 0) seasonal_order=(0, 1, 1, 12); AIC=-248.461, BIC=-240.863, Fit time=0.639 seconds\n",
      "Fit ARIMA: order=(1, 1, 1) seasonal_order=(0, 1, 1, 12); AIC=-248.688, BIC=-236.025, Fit time=0.433 seconds\n",
      "Fit ARIMA: order=(0, 1, 2) seasonal_order=(0, 1, 1, 12); AIC=-248.862, BIC=-236.199, Fit time=0.468 seconds\n",
      "Fit ARIMA: order=(1, 1, 0) seasonal_order=(0, 1, 1, 12); AIC=-252.517, BIC=-242.387, Fit time=0.700 seconds\n",
      "Fit ARIMA: order=(2, 1, 1) seasonal_order=(0, 1, 1, 12); AIC=-246.781, BIC=-231.585, Fit time=0.687 seconds\n",
      "Fit ARIMA: order=(1, 1, 0) seasonal_order=(0, 1, 0, 12); AIC=-231.463, BIC=-223.866, Fit time=0.168 seconds\n",
      "Fit ARIMA: order=(1, 1, 0) seasonal_order=(1, 1, 1, 12); AIC=-239.939, BIC=-227.276, Fit time=0.636 seconds\n",
      "Fit ARIMA: order=(1, 1, 0) seasonal_order=(0, 1, 2, 12); AIC=-227.464, BIC=-214.801, Fit time=1.443 seconds\n",
      "Fit ARIMA: order=(1, 1, 0) seasonal_order=(1, 1, 2, 12); AIC=-238.512, BIC=-223.316, Fit time=1.607 seconds\n",
      "Fit ARIMA: order=(2, 1, 0) seasonal_order=(0, 1, 1, 12); AIC=-251.278, BIC=-238.615, Fit time=1.330 seconds\n",
      "Total fit time: 14.477 seconds\n"
     ]
    },
    {
     "data": {
      "image/png": "[encoded data removed]",
      "text/plain": [
       "<Figure size 432x288 with 1 Axes>"
      ]
     },
     "metadata": {
      "needs_background": "light"
     },
     "output_type": "display_data"
    }
   ],
   "source": [
    "import pmdarima as pm\n",
    "from pmdarima import model_selection\n",
    "import numpy as np\n",
    "from matplotlib import pyplot as plt\n",
    "\n",
    "# #############################################################################\n",
    "# Load the data and split it into separate pieces\n",
    "train, test = model_selection.train_test_split(rolmean_CA_avg_t['2008':], \n",
    "                                               train_size=round(len(rolmean_CA_avg_t['2008':])*0.8))\n",
    "\n",
    "# Fit a simple auto_arima model\n",
    "arima = pm.auto_arima(train, error_action='ignore', trace=True,\n",
    "                      suppress_warnings=True,\n",
    "                      seasonal=True, m=12,\n",
    "                      start_p=0, start_q=0,\n",
    "                      start_P=0, start_Q=0,\n",
    "                      stationary=False,\n",
    "                      with_intercept=False,\n",
    "                      D=1,\n",
    "                      trend='t'\n",
    "                      )\n",
    "\n",
    "# #############################################################################\n",
    "# Plot actual test vs. forecasts:\n",
    "x = np.arange(test.shape[0])\n",
    "plt.scatter(x, test, marker='x')\n",
    "plt.plot(x, arima.predict(n_periods=test.shape[0]))\n",
    "plt.title('Actual test samples vs. forecasts')\n",
    "plt.show()"
   ]
  },
  {
   "cell_type": "code",
   "execution_count": 16,
   "metadata": {},
   "outputs": [
    {
     "data": {
      "text/html": [
       "<table class=\"simpletable\">\n",
       "<caption>Statespace Model Results</caption>\n",
       "<tr>\n",
       "  <th>Dep. Variable:</th>                  <td>y</td>               <th>  No. Observations:  </th>    <td>106</td>  \n",
       "</tr>\n",
       "<tr>\n",
       "  <th>Model:</th>           <td>SARIMAX(0, 1, 1)x(0, 1, 1, 12)</td> <th>  Log Likelihood     </th>  <td>130.030</td>\n",
       "</tr>\n",
       "<tr>\n",
       "  <th>Date:</th>                   <td>Wed, 08 Jan 2020</td>        <th>  AIC                </th> <td>-252.060</td>\n",
       "</tr>\n",
       "<tr>\n",
       "  <th>Time:</th>                       <td>16:30:34</td>            <th>  BIC                </th> <td>-241.929</td>\n",
       "</tr>\n",
       "<tr>\n",
       "  <th>Sample:</th>                         <td>0</td>               <th>  HQIC               </th> <td>-247.969</td>\n",
       "</tr>\n",
       "<tr>\n",
       "  <th></th>                             <td> - 106</td>             <th>                     </th>     <td> </td>   \n",
       "</tr>\n",
       "<tr>\n",
       "  <th>Covariance Type:</th>               <td>opg</td>              <th>                     </th>     <td> </td>   \n",
       "</tr>\n",
       "</table>\n",
       "<table class=\"simpletable\">\n",
       "<tr>\n",
       "      <td></td>         <th>coef</th>     <th>std err</th>      <th>z</th>      <th>P>|z|</th>  <th>[0.025</th>    <th>0.975]</th>  \n",
       "</tr>\n",
       "<tr>\n",
       "  <th>intercept</th> <td>    0.0066</td> <td>    0.004</td> <td>    1.574</td> <td> 0.116</td> <td>   -0.002</td> <td>    0.015</td>\n",
       "</tr>\n",
       "<tr>\n",
       "  <th>ma.L1</th>     <td>    0.2219</td> <td>    0.110</td> <td>    2.026</td> <td> 0.043</td> <td>    0.007</td> <td>    0.436</td>\n",
       "</tr>\n",
       "<tr>\n",
       "  <th>ma.S.L12</th>  <td>   -0.6216</td> <td>    0.126</td> <td>   -4.944</td> <td> 0.000</td> <td>   -0.868</td> <td>   -0.375</td>\n",
       "</tr>\n",
       "<tr>\n",
       "  <th>sigma2</th>    <td>    0.0034</td> <td>    0.001</td> <td>    5.516</td> <td> 0.000</td> <td>    0.002</td> <td>    0.005</td>\n",
       "</tr>\n",
       "</table>\n",
       "<table class=\"simpletable\">\n",
       "<tr>\n",
       "  <th>Ljung-Box (Q):</th>          <td>26.86</td> <th>  Jarque-Bera (JB):  </th> <td>1.94</td> \n",
       "</tr>\n",
       "<tr>\n",
       "  <th>Prob(Q):</th>                <td>0.94</td>  <th>  Prob(JB):          </th> <td>0.38</td> \n",
       "</tr>\n",
       "<tr>\n",
       "  <th>Heteroskedasticity (H):</th> <td>0.55</td>  <th>  Skew:              </th> <td>-0.22</td>\n",
       "</tr>\n",
       "<tr>\n",
       "  <th>Prob(H) (two-sided):</th>    <td>0.10</td>  <th>  Kurtosis:          </th> <td>2.45</td> \n",
       "</tr>\n",
       "</table><br/><br/>Warnings:<br/>[1] Covariance matrix calculated using the outer product of gradients (complex-step)."
      ],
      "text/plain": [
       "<class 'statsmodels.iolib.summary.Summary'>\n",
       "\"\"\"\n",
       "                                 Statespace Model Results                                 \n",
       "==========================================================================================\n",
       "Dep. Variable:                                  y   No. Observations:                  106\n",
       "Model:             SARIMAX(0, 1, 1)x(0, 1, 1, 12)   Log Likelihood                 130.030\n",
       "Date:                            Wed, 08 Jan 2020   AIC                           -252.060\n",
       "Time:                                    16:30:34   BIC                           -241.929\n",
       "Sample:                                         0   HQIC                          -247.969\n",
       "                                            - 106                                         \n",
       "Covariance Type:                              opg                                         \n",
       "==============================================================================\n",
       "                 coef    std err          z      P>|z|      [0.025      0.975]\n",
       "------------------------------------------------------------------------------\n",
       "intercept      0.0066      0.004      1.574      0.116      -0.002       0.015\n",
       "ma.L1          0.2219      0.110      2.026      0.043       0.007       0.436\n",
       "ma.S.L12      -0.6216      0.126     -4.944      0.000      -0.868      -0.375\n",
       "sigma2         0.0034      0.001      5.516      0.000       0.002       0.005\n",
       "===================================================================================\n",
       "Ljung-Box (Q):                       26.86   Jarque-Bera (JB):                 1.94\n",
       "Prob(Q):                              0.94   Prob(JB):                         0.38\n",
       "Heteroskedasticity (H):               0.55   Skew:                            -0.22\n",
       "Prob(H) (two-sided):                  0.10   Kurtosis:                         2.45\n",
       "===================================================================================\n",
       "\n",
       "Warnings:\n",
       "[1] Covariance matrix calculated using the outer product of gradients (complex-step).\n",
       "\"\"\""
      ]
     },
     "execution_count": 16,
     "metadata": {},
     "output_type": "execute_result"
    }
   ],
   "source": [
    "arima.summary()"
   ]
  },
  {
   "cell_type": "code",
   "execution_count": null,
   "metadata": {},
   "outputs": [],
   "source": []
  }
 ],
 "metadata": {
  "kernelspec": {
   "display_name": "Python 3",
   "language": "python",
   "name": "python3"
  },
  "language_info": {
   "codemirror_mode": {
    "name": "ipython",
    "version": 3
   },
   "file_extension": ".py",
   "mimetype": "text/x-python",
   "name": "python",
   "nbconvert_exporter": "python",
   "pygments_lexer": "ipython3",
   "version": "3.7.3"
  }
 },
 "nbformat": 4,
 "nbformat_minor": 4
}
